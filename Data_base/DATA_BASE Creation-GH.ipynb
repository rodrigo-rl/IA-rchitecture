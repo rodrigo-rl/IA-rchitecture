{
 "cells": [
  {
   "cell_type": "markdown",
   "id": "d77559b4",
   "metadata": {},
   "source": [
    "# Image Data Base Creation "
   ]
  },
  {
   "cell_type": "markdown",
   "id": "03feb876",
   "metadata": {},
   "source": [
    "### 1-Libraries"
   ]
  },
  {
   "cell_type": "code",
   "execution_count": null,
   "id": "b476b242",
   "metadata": {},
   "outputs": [],
   "source": [
    "import pandas as pd\n",
    "import numpy as np\n",
    "import re\n",
    "from PIL import Image\n",
    "import matplotlib.pyplot as plt\n",
    "from pymongo import MongoClient\n",
    "import blosc\n"
   ]
  },
  {
   "cell_type": "markdown",
   "id": "b0c0e919",
   "metadata": {},
   "source": [
    "### 2 - Data Frame\n",
    "\n",
    "Has been created a dataframe with the most representative buildings of each style in a CSV, wich is going to be load in Notebook. The CSV has the link to the pictures of the buildings, which should be transformed into another format to upload the data in Mongo BD"
   ]
  },
  {
   "cell_type": "code",
   "execution_count": null,
   "id": "fd95d276",
   "metadata": {},
   "outputs": [],
   "source": [
    "df_building=pd.read_csv(\"./examples/Buildings.csv\", sep= \";\",header=0, names=[\"Number\",\"School\",\"Name\",\"Architects\",\"Years\",\"Link\"])"
   ]
  },
  {
   "cell_type": "code",
   "execution_count": null,
   "id": "88063dee",
   "metadata": {},
   "outputs": [],
   "source": [
    "df_building"
   ]
  },
  {
   "cell_type": "markdown",
   "id": "cca92408",
   "metadata": {},
   "source": [
    "### 3- Test -- to check BLOSC extension performance"
   ]
  },
  {
   "cell_type": "code",
   "execution_count": null,
   "id": "390637e5",
   "metadata": {},
   "outputs": [],
   "source": [
    "picture=Image.open(df_building[\"Link\"][2]).convert(\"RGB\")\n",
    "picture.show()\n",
    "\n",
    "compressed_b = blosc.pack_array(np.array(picture))\n",
    "print(compressed_b)\n",
    "print(type(compressed_b))"
   ]
  },
  {
   "cell_type": "code",
   "execution_count": null,
   "id": "bb7d8c8d",
   "metadata": {},
   "outputs": [],
   "source": [
    "decompressed_array = blosc.unpack_array(compressed_b)\n",
    "im = Image.fromarray(decompressed_array)\n",
    "\n",
    "im\n"
   ]
  },
  {
   "cell_type": "markdown",
   "id": "a601f306",
   "metadata": {},
   "source": [
    "### 4- Reshape and transform all the pictures into BLOSC files and added into the Data Frame"
   ]
  },
  {
   "cell_type": "code",
   "execution_count": null,
   "id": "0e5a5471",
   "metadata": {},
   "outputs": [],
   "source": [
    "pict=[]\n",
    "dimension=[]\n",
    "\n",
    "for i in df_building[\"Link\"]:\n",
    "    im_compress=0\n",
    "    picture=Image.open(i).convert('RGB')\n",
    "\n",
    "    if picture.size[0]<picture.size[1]:\n",
    "        picture=picture.resize((200,160))\n",
    "        dimension.append(picture.size)\n",
    "        im_compress = blosc.pack_array(np.array(picture))\n",
    "        \n",
    "    else:\n",
    "        picture=picture.resize((200,250))\n",
    "        dimension.append(picture.size)\n",
    "        im_compress = blosc.pack_array(np.array(picture))\n",
    "    \n",
    "    pict.append(im_compress)\n",
    "\n",
    "print(dimension)\n",
    "print(len(pict))"
   ]
  },
  {
   "cell_type": "code",
   "execution_count": null,
   "id": "db39a7bb",
   "metadata": {},
   "outputs": [],
   "source": [
    "df_building=df_building.assign(Pictures=pict)\n",
    "df_building=df_building.assign(Dimension=dimension)"
   ]
  },
  {
   "cell_type": "code",
   "execution_count": null,
   "id": "bff3e57f",
   "metadata": {},
   "outputs": [],
   "source": [
    "df_building=df_building.drop(columns=\"Link\")\n",
    "df_building.head()"
   ]
  },
  {
   "cell_type": "code",
   "execution_count": null,
   "id": "8be3a8ff",
   "metadata": {},
   "outputs": [],
   "source": [
    "#picture=Image.open(df_building[\"Link\"][2]).convert(\"RGB\")\n",
    "\n",
    "decompressed_array = blosc.unpack_array(df_building[\"Pictures\"][1])\n",
    "print(type(decompressed_array))\n",
    "print(df_building[\"Pictures\"][1])\n",
    "im = Image.fromarray(decompressed_array)\n",
    "\n",
    "im\n"
   ]
  },
  {
   "cell_type": "markdown",
   "id": "8ae4016a",
   "metadata": {},
   "source": [
    "### 5- MongoDB Connection and create the DataBase"
   ]
  },
  {
   "cell_type": "code",
   "execution_count": null,
   "id": "2e7cc82b",
   "metadata": {},
   "outputs": [],
   "source": [
    "##mongo_url= ADD HERE YOUR MONGO URL \n",
    "\n",
    "client = MongoClient(mongo_url)\n",
    "db = client.get_database(\"Data\")\n",
    "match_db= db.Styles"
   ]
  },
  {
   "cell_type": "code",
   "execution_count": null,
   "id": "900e2cc2",
   "metadata": {},
   "outputs": [],
   "source": [
    "client"
   ]
  },
  {
   "cell_type": "code",
   "execution_count": null,
   "id": "7fcf63ea",
   "metadata": {
    "scrolled": true
   },
   "outputs": [],
   "source": [
    "for row in df_building.index:\n",
    "    edificio={}\n",
    "    for column in df_building:\n",
    "        if column==\"Number\":\n",
    "            pass\n",
    "        else:\n",
    "            if column==\"Years\":\n",
    "                edificio[column]=int(df_building[column][row])\n",
    "            else:\n",
    "                edificio[column]=df_building[column][row]\n",
    "    match_db.insert_one(edificio)    \n",
    "    print(edificio[\"Name\"])"
   ]
  },
  {
   "cell_type": "code",
   "execution_count": null,
   "id": "ccbb97dd",
   "metadata": {},
   "outputs": [],
   "source": [
    "##mongo_url= ADD HERE YOUR MONGO URL \n",
    "\n",
    "client = MongoClient(mongo_url)\n",
    "db = client.get_database(\"Data\")\n",
    "match_db= db.Styles"
   ]
  },
  {
   "cell_type": "code",
   "execution_count": null,
   "id": "fd0b4acd",
   "metadata": {},
   "outputs": [],
   "source": [
    "res=list(db[\"Styles\"].find({\"Name\":'Auditorium Building'}))\n",
    "\n",
    "print(res[0]['Pictures'])\n",
    "\n",
    "cosa=res[0]['Pictures']"
   ]
  },
  {
   "cell_type": "code",
   "execution_count": null,
   "id": "3d9a4548",
   "metadata": {},
   "outputs": [],
   "source": [
    "decompressed_array = blosc.unpack_array(cosa)\n",
    "print(type(decompressed_array))\n",
    "print(type(cosa))\n",
    "im = Image.fromarray(decompressed_array)\n",
    "\n",
    "im\n"
   ]
  }
 ],
 "metadata": {
  "kernelspec": {
   "display_name": "Python 3 (ipykernel)",
   "language": "python",
   "name": "python3"
  },
  "language_info": {
   "codemirror_mode": {
    "name": "ipython",
    "version": 3
   },
   "file_extension": ".py",
   "mimetype": "text/x-python",
   "name": "python",
   "nbconvert_exporter": "python",
   "pygments_lexer": "ipython3",
   "version": "3.9.7"
  }
 },
 "nbformat": 4,
 "nbformat_minor": 5
}

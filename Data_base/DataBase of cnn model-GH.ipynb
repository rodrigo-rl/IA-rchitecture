{
 "cells": [
  {
   "cell_type": "markdown",
   "id": "a0c8ee98",
   "metadata": {},
   "source": [
    "# MODEL UPLOAD TO MONGODB DATA BASE"
   ]
  },
  {
   "cell_type": "markdown",
   "id": "a1869398",
   "metadata": {},
   "source": [
    "## 1 - Import libraries"
   ]
  },
  {
   "cell_type": "markdown",
   "id": "eed67040",
   "metadata": {},
   "source": [
    "It's necessary to load the model in MongoDB to create a docker image of all the project.\n",
    "\n",
    "The idea is to be able to update the project with more pictures and models with more categories."
   ]
  },
  {
   "cell_type": "code",
   "execution_count": null,
   "id": "89c1c0a6",
   "metadata": {},
   "outputs": [],
   "source": [
    "import pandas as pd\n",
    "import numpy as np\n",
    "from sklearn import datasets\n",
    "from pymongo import MongoClient\n",
    "import pickle\n",
    "import time"
   ]
  },
  {
   "cell_type": "markdown",
   "id": "ac00df1d",
   "metadata": {},
   "source": [
    "### 2 - Convert the model to binary data"
   ]
  },
  {
   "cell_type": "code",
   "execution_count": null,
   "id": "1f2fc4f6",
   "metadata": {},
   "outputs": [],
   "source": [
    "five_styles=pickle.dumps(\"./model/22_08_08-BN_pictures.h5\")\n",
    "print(cnn_model)"
   ]
  },
  {
   "cell_type": "code",
   "execution_count": null,
   "id": "62b03ffc",
   "metadata": {},
   "outputs": [],
   "source": [
    "first_try=keras.models.load_model(\"./model/22_08_08-BN_pictures.h5\")\n",
    "first_try"
   ]
  },
  {
   "cell_type": "markdown",
   "id": "d4c16b83",
   "metadata": {},
   "source": [
    "### 3 - Mongo connection and upload model"
   ]
  },
  {
   "cell_type": "code",
   "execution_count": null,
   "id": "e29d04e3",
   "metadata": {},
   "outputs": [],
   "source": [
    "##mongo_url= ADD HERE YOUR MONGO URL \n",
    "\n",
    "client = MongoClient(mongo_url)\n",
    "db = client.get_database(\"Data\")\n",
    "model_db= db.Cnn_model"
   ]
  },
  {
   "cell_type": "code",
   "execution_count": null,
   "id": "20da141d",
   "metadata": {},
   "outputs": [],
   "source": [
    "mongo_model=model_db.insert_one({'model':five_styles, \"name\":\"5 styles\", \"creation\":time.time()})    \n"
   ]
  },
  {
   "cell_type": "markdown",
   "id": "8d83fcf1",
   "metadata": {},
   "source": [
    "### 4 - Validate process and load model"
   ]
  },
  {
   "cell_type": "code",
   "execution_count": null,
   "id": "a7f5f9ee",
   "metadata": {},
   "outputs": [],
   "source": [
    "##mongo_url= ADD HERE YOUR MONGO URL \n",
    "\n",
    "client = MongoClient(mongo_url)\n",
    "db = client.get_database(\"Data\")\n",
    "model_db= db.Cnn_model"
   ]
  },
  {
   "cell_type": "code",
   "execution_count": null,
   "id": "5688f634",
   "metadata": {},
   "outputs": [],
   "source": [
    "from bson import json_util\n",
    "from json import loads\n",
    "from tensorflow import keras\n",
    "from sklearn.preprocessing import OneHotEncoder\n",
    "from PIL import Image"
   ]
  },
  {
   "cell_type": "code",
   "execution_count": null,
   "id": "813e7709",
   "metadata": {},
   "outputs": [],
   "source": [
    "res=list(db[\"Cnn_model\"].find())\n",
    "\n",
    "solution=res[0]['creation']\n",
    "print(solution)\n",
    "\n",
    "for i in range(len(res)):\n",
    "    if res[i]['creation']>solution:\n",
    "        solution=res[i]['creation']\n",
    "\n",
    "print(solution)\n",
    "\n",
    "new_model=db[\"Cnn_model\"].find({'creation':solution})\n",
    "\n",
    "print(new_model)\n",
    "\n",
    "for i in new_model:\n",
    "    json_data=i\n",
    "    print(i)\n",
    "\n",
    "pickled_model=json_data['model']\n",
    "\n",
    "new_mod=pickle.loads(pickled_model)\n",
    "print(new_mod)\n",
    "\n"
   ]
  },
  {
   "cell_type": "code",
   "execution_count": null,
   "id": "150d2914",
   "metadata": {},
   "outputs": [],
   "source": [
    "classes=[\"Postmodern achitecture\",\"Novelty architecture\",\"International style\", \"Deconstructivsm\", \"Chicago school architecture\"]\n",
    "\n",
    "X_aux=[]\n",
    "#creating classes\n",
    "enc=OneHotEncoder(handle_unknown='ignore')\n",
    "\n",
    "y=np.array(classes)\n",
    "y=y.reshape(-1,1)\n",
    "y_ohe=enc.fit_transform(y).toarray()\n",
    "\n",
    "# create an array with the right shape\n",
    "img=Image.open(\"./examples/chicago school/Auditorium_Building.jpg\").resize((200,200)).convert(\"L\")\n",
    "img.show()\n",
    "g_img=np.expand_dims(img, axis=-1)\n",
    "g_img_chan=g_img.repeat(3, axis=-1)\n",
    "X_aux.append(g_img_chan)\n",
    "X_img=np.array(X_aux)\n",
    "print(f\"g_img_chan.shape: {g_img_chan.shape}\")\n",
    "print(f\"X_img.shape: {X_img.shape}\")\n",
    "\n",
    "model=keras.models.load_model(new_mod)\n",
    "pred=model.predict(X_img)\n",
    "pred_text = enc.inverse_transform(pred)\n",
    "\n",
    "results=[pred_text, pred]"
   ]
  },
  {
   "cell_type": "code",
   "execution_count": null,
   "id": "a7846a3a",
   "metadata": {},
   "outputs": [],
   "source": [
    "results"
   ]
  }
 ],
 "metadata": {
  "kernelspec": {
   "display_name": "Python 3 (ipykernel)",
   "language": "python",
   "name": "python3"
  },
  "language_info": {
   "codemirror_mode": {
    "name": "ipython",
    "version": 3
   },
   "file_extension": ".py",
   "mimetype": "text/x-python",
   "name": "python",
   "nbconvert_exporter": "python",
   "pygments_lexer": "ipython3",
   "version": "3.9.7"
  }
 },
 "nbformat": 4,
 "nbformat_minor": 5
}
